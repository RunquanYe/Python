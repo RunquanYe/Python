{
 "cells": [
  {
   "cell_type": "markdown",
   "id": "436fc8e7",
   "metadata": {},
   "source": [
    "# <center><span style=\"color:#0392cf\"><b>Color Set Collections</b></span></center>\n",
    "\n",
    "<b>Description:</b> Here are some of my favourite colour set collections. Hope you like it.\n",
    "\n",
    "---"
   ]
  },
  {
   "cell_type": "markdown",
   "id": "1e5aa88e",
   "metadata": {},
   "source": [
    "## <span style=\"color:#ff6453\"><b>颜色标签表</b></span>"
   ]
  },
  {
   "cell_type": "markdown",
   "id": "c39c37c2",
   "metadata": {},
   "source": [
    "### <b><span style=\"color:#58b849;\"> Four Color Set </span></b>"
   ]
  },
  {
   "cell_type": "markdown",
   "id": "d56f71fe",
   "metadata": {},
   "source": [
    "\n",
    "\n",
    "| No | Color | Text Sample | Text Highlight | Text Over White |\n",
    "|:----:|:---:|:---:|:---:|:---:|\n",
    "| <span> 1 </span> | <span style=\"color:#ff6453;\"> #ff6453 </span> | <span style=\"color:#ff6453;\"> 样例文案 abcd <b>ABCD</b> <i>1234</i> </span> | <span style=\" background:#ff6453;\"> 样例文案 abcd <b>ABCD</b> <i>1234</i> </span> | <span style=\"color:#ff6453; background:white;\"> 样例文案 abcd <b>ABCD</b> <i>1234</i> </span> |\n",
    "| <span> 2 </span> | <span style=\"color:#ff8253;\"> #ff8253 </span> | <span style=\"color:#ff8253;\"> 样例文案 abcd <b>ABCD</b> <i>1234</i> </span> | <span style=\" background:#ff8253;\"> 样例文案 abcd <b>ABCD</b> <i>1234</i> </span> | <span style=\"color:#ff8253; background:white;\"> 样例文案 abcd <b>ABCD</b> <i>1234</i> </span> |\n",
    "| <span> 3 </span> | <span style=\"color:#ffac53;\"> #ffac53 </span> | <span style=\"color:#ffac53;\"> 样例文案 abcd <b>ABCD</b> <i>1234</i> </span> | <span style=\" background:#ffac53;\"> 样例文案 abcd <b>ABCD</b> <i>1234</i> </span> | <span style=\"color:#ffac53; background:white;\"> 样例文案 abcd <b>ABCD</b> <i>1234</i> </span> |\n",
    "| <span> 4 </span> | <span style=\"color:#ffe353;\"> #ffe353 </span> | <span style=\"color:#ffe353;\"> 样例文案 abcd <b>ABCD</b> <i>1234</i> </span> | <span style=\" background:#ffe353;\"> 样例文案 abcd <b>ABCD</b> <i>1234</i> </span> | <span style=\"color:#ffe353; background:white;\"> 样例文案 abcd <b>ABCD</b> <i>1234</i> </span> |\n"
   ]
  },
  {
   "cell_type": "markdown",
   "id": "47e59cd8",
   "metadata": {},
   "source": [
    "---"
   ]
  },
  {
   "cell_type": "markdown",
   "id": "3addefda",
   "metadata": {},
   "source": [
    "### <b><span style=\"color:#58b849;\"> Five Color Set </span></b>"
   ]
  },
  {
   "cell_type": "markdown",
   "id": "6f3fd731",
   "metadata": {},
   "source": [
    "\n",
    "\n",
    "| No | Color | Text Sample | Text Highlight | Text Over White |\n",
    "|:----:|:---:|:---:|:---:|:---:|\n",
    "| <span> 1 </span> | <span style=\"color:#ee4035;\"> #ee4035 </span> | <span style=\"color:#ee4035;\"> 样例文案 abcd <b>ABCD</b> <i>1234</i> </span> | <span style=\" background:#ee4035;\"> 样例文案 abcd <b>ABCD</b> <i>1234</i> </span> | <span style=\"color:#ee4035; background:white;\"> 样例文案 abcd <b>ABCD</b> <i>1234</i> </span> |\n",
    "| <span> 2 </span> | <span style=\"color:#f37736;\"> #f37736 </span> | <span style=\"color:#f37736;\"> 样例文案 abcd <b>ABCD</b> <i>1234</i> </span> | <span style=\" background:#f37736;\"> 样例文案 abcd <b>ABCD</b> <i>1234</i> </span> | <span style=\"color:#f37736; background:white;\"> 样例文案 abcd <b>ABCD</b> <i>1234</i> </span> |\n",
    "| <span> 3 </span> | <span style=\"color:#fdf498;\"> #fdf498 </span> | <span style=\"color:#fdf498;\"> 样例文案 abcd <b>ABCD</b> <i>1234</i> </span> | <span style=\" background:#fdf498;\"> 样例文案 abcd <b>ABCD</b> <i>1234</i> </span> | <span style=\"color:#fdf498; background:white;\"> 样例文案 abcd <b>ABCD</b> <i>1234</i> </span> |\n",
    "| <span> 4 </span> | <span style=\"color:#7bc043;\"> #7bc043 </span> | <span style=\"color:#7bc043;\"> 样例文案 abcd <b>ABCD</b> <i>1234</i> </span> | <span style=\" background:#7bc043;\"> 样例文案 abcd <b>ABCD</b> <i>1234</i> </span> | <span style=\"color:#7bc043; background:white;\"> 样例文案 abcd <b>ABCD</b> <i>1234</i> </span> |\n",
    "| <span> 5 </span> | <span style=\"color:#0392cf;\"> #0392cf </span> | <span style=\"color:#0392cf;\"> 样例文案 abcd <b>ABCD</b> <i>1234</i> </span> | <span style=\" background:#0392cf;\"> 样例文案 abcd <b>ABCD</b> <i>1234</i> </span> | <span style=\"color:#0392cf; background:white;\"> 样例文案 abcd <b>ABCD</b> <i>1234</i> </span> |\n"
   ]
  },
  {
   "cell_type": "markdown",
   "id": "5d96bcbc",
   "metadata": {},
   "source": [
    "\n",
    "\n",
    "| No | Color | Text Sample | Text Highlight | Text Over White |\n",
    "|:----:|:---:|:---:|:---:|:---:|\n",
    "| <span> 1 </span> | <span style=\"color:#7dde92;\"> #7dde92 </span> | <span style=\"color:#7dde92;\"> 样例文案 abcd <b>ABCD</b> <i>1234</i> </span> | <span style=\" background:#7dde92;\"> 样例文案 abcd <b>ABCD</b> <i>1234</i> </span> | <span style=\"color:#7dde92; background:white;\"> 样例文案 abcd <b>ABCD</b> <i>1234</i> </span> |\n",
    "| <span> 2 </span> | <span style=\"color:#8bb879;\"> #8bb879 </span> | <span style=\"color:#8bb879;\"> 样例文案 abcd <b>ABCD</b> <i>1234</i> </span> | <span style=\" background:#8bb879;\"> 样例文案 abcd <b>ABCD</b> <i>1234</i> </span> | <span style=\"color:#8bb879; background:white;\"> 样例文案 abcd <b>ABCD</b> <i>1234</i> </span> |\n",
    "| <span> 3 </span> | <span style=\"color:#e1de69;\"> #e1de69 </span> | <span style=\"color:#e1de69;\"> 样例文案 abcd <b>ABCD</b> <i>1234</i> </span> | <span style=\" background:#e1de69;\"> 样例文案 abcd <b>ABCD</b> <i>1234</i> </span> | <span style=\"color:#e1de69; background:white;\"> 样例文案 abcd <b>ABCD</b> <i>1234</i> </span> |\n",
    "| <span> 4 </span> | <span style=\"color:#b6be6f;\"> #b6be6f </span> | <span style=\"color:#b6be6f;\"> 样例文案 abcd <b>ABCD</b> <i>1234</i> </span> | <span style=\" background:#b6be6f;\"> 样例文案 abcd <b>ABCD</b> <i>1234</i> </span> | <span style=\"color:#b6be6f; background:white;\"> 样例文案 abcd <b>ABCD</b> <i>1234</i> </span> |\n",
    "| <span> 5 </span> | <span style=\"color:#9aea6b;\"> #9aea6b </span> | <span style=\"color:#9aea6b;\"> 样例文案 abcd <b>ABCD</b> <i>1234</i> </span> | <span style=\" background:#9aea6b;\"> 样例文案 abcd <b>ABCD</b> <i>1234</i> </span> | <span style=\"color:#9aea6b; background:white;\"> 样例文案 abcd <b>ABCD</b> <i>1234</i> </span> |\n"
   ]
  },
  {
   "cell_type": "markdown",
   "id": "c953b368",
   "metadata": {},
   "source": [
    "\n",
    "\n",
    "| No | Color | Text Sample | Text Highlight | Text Over White |\n",
    "|:----:|:---:|:---:|:---:|:---:|\n",
    "| <span> 1 </span> | <span style=\"color:#47c68b;\"> #47c68b </span> | <span style=\"color:#47c68b;\"> 样例文案 abcd <b>ABCD</b> <i>1234</i> </span> | <span style=\" background:#47c68b;\"> 样例文案 abcd <b>ABCD</b> <i>1234</i> </span> | <span style=\"color:#47c68b; background:white;\"> 样例文案 abcd <b>ABCD</b> <i>1234</i> </span> |\n",
    "| <span> 2 </span> | <span style=\"color:#d39f74;\"> #d39f74 </span> | <span style=\"color:#d39f74;\"> 样例文案 abcd <b>ABCD</b> <i>1234</i> </span> | <span style=\" background:#d39f74;\"> 样例文案 abcd <b>ABCD</b> <i>1234</i> </span> | <span style=\"color:#d39f74; background:white;\"> 样例文案 abcd <b>ABCD</b> <i>1234</i> </span> |\n",
    "| <span> 3 </span> | <span style=\"color:#abd14c;\"> #abd14c </span> | <span style=\"color:#abd14c;\"> 样例文案 abcd <b>ABCD</b> <i>1234</i> </span> | <span style=\" background:#abd14c;\"> 样例文案 abcd <b>ABCD</b> <i>1234</i> </span> | <span style=\"color:#abd14c; background:white;\"> 样例文案 abcd <b>ABCD</b> <i>1234</i> </span> |\n",
    "| <span> 4 </span> | <span style=\"color:#f1afaf;\"> #f1afaf </span> | <span style=\"color:#f1afaf;\"> 样例文案 abcd <b>ABCD</b> <i>1234</i> </span> | <span style=\" background:#f1afaf;\"> 样例文案 abcd <b>ABCD</b> <i>1234</i> </span> | <span style=\"color:#f1afaf; background:white;\"> 样例文案 abcd <b>ABCD</b> <i>1234</i> </span> |\n",
    "| <span> 5 </span> | <span style=\"color:#e7ef92;\"> #e7ef92 </span> | <span style=\"color:#e7ef92;\"> 样例文案 abcd <b>ABCD</b> <i>1234</i> </span> | <span style=\" background:#e7ef92;\"> 样例文案 abcd <b>ABCD</b> <i>1234</i> </span> | <span style=\"color:#e7ef92; background:white;\"> 样例文案 abcd <b>ABCD</b> <i>1234</i> </span> |\n"
   ]
  },
  {
   "cell_type": "markdown",
   "id": "9b4a340a",
   "metadata": {},
   "source": [
    "\n",
    "\n",
    "| No | Color | Text Sample | Text Highlight | Text Over White |\n",
    "|:----:|:---:|:---:|:---:|:---:|\n",
    "| <span> 1 </span> | <span style=\"color:#d9ed92;\"> #d9ed92 </span> | <span style=\"color:#d9ed92;\"> 样例文案 abcd <b>ABCD</b> <i>1234</i> </span> | <span style=\" background:#d9ed92;\"> 样例文案 abcd <b>ABCD</b> <i>1234</i> </span> | <span style=\"color:#d9ed92; background:white;\"> 样例文案 abcd <b>ABCD</b> <i>1234</i> </span> |\n",
    "| <span> 2 </span> | <span style=\"color:#b5e48c;\"> #b5e48c </span> | <span style=\"color:#b5e48c;\"> 样例文案 abcd <b>ABCD</b> <i>1234</i> </span> | <span style=\" background:#b5e48c;\"> 样例文案 abcd <b>ABCD</b> <i>1234</i> </span> | <span style=\"color:#b5e48c; background:white;\"> 样例文案 abcd <b>ABCD</b> <i>1234</i> </span> |\n",
    "| <span> 3 </span> | <span style=\"color:#99d98c;\"> #99d98c </span> | <span style=\"color:#99d98c;\"> 样例文案 abcd <b>ABCD</b> <i>1234</i> </span> | <span style=\" background:#99d98c;\"> 样例文案 abcd <b>ABCD</b> <i>1234</i> </span> | <span style=\"color:#99d98c; background:white;\"> 样例文案 abcd <b>ABCD</b> <i>1234</i> </span> |\n",
    "| <span> 4 </span> | <span style=\"color:#76c893;\"> #76c893 </span> | <span style=\"color:#76c893;\"> 样例文案 abcd <b>ABCD</b> <i>1234</i> </span> | <span style=\" background:#76c893;\"> 样例文案 abcd <b>ABCD</b> <i>1234</i> </span> | <span style=\"color:#76c893; background:white;\"> 样例文案 abcd <b>ABCD</b> <i>1234</i> </span> |\n",
    "| <span> 5 </span> | <span style=\"color:#52b69a;\"> #52b69a </span> | <span style=\"color:#52b69a;\"> 样例文案 abcd <b>ABCD</b> <i>1234</i> </span> | <span style=\" background:#52b69a;\"> 样例文案 abcd <b>ABCD</b> <i>1234</i> </span> | <span style=\"color:#52b69a; background:white;\"> 样例文案 abcd <b>ABCD</b> <i>1234</i> </span> |\n"
   ]
  },
  {
   "cell_type": "markdown",
   "id": "57afa16d",
   "metadata": {},
   "source": [
    "\n",
    "\n",
    "| No | Color | Text Sample | Text Highlight | Text Over White |\n",
    "|:----:|:---:|:---:|:---:|:---:|\n",
    "| <span> 1 </span> | <span style=\"color:#fffa85;\"> #fffa85 </span> | <span style=\"color:#fffa85;\"> 样例文案 abcd <b>ABCD</b> <i>1234</i> </span> | <span style=\" background:#fffa85;\"> 样例文案 abcd <b>ABCD</b> <i>1234</i> </span> | <span style=\"color:#fffa85; background:white;\"> 样例文案 abcd <b>ABCD</b> <i>1234</i> </span> |\n",
    "| <span> 2 </span> | <span style=\"color:#fcd238;\"> #fcd238 </span> | <span style=\"color:#fcd238;\"> 样例文案 abcd <b>ABCD</b> <i>1234</i> </span> | <span style=\" background:#fcd238;\"> 样例文案 abcd <b>ABCD</b> <i>1234</i> </span> | <span style=\"color:#fcd238; background:white;\"> 样例文案 abcd <b>ABCD</b> <i>1234</i> </span> |\n",
    "| <span> 3 </span> | <span style=\"color:#ff7f50;\"> #ff7f50 </span> | <span style=\"color:#ff7f50;\"> 样例文案 abcd <b>ABCD</b> <i>1234</i> </span> | <span style=\" background:#ff7f50;\"> 样例文案 abcd <b>ABCD</b> <i>1234</i> </span> | <span style=\"color:#ff7f50; background:white;\"> 样例文案 abcd <b>ABCD</b> <i>1234</i> </span> |\n",
    "| <span> 4 </span> | <span style=\"color:#eb655b;\"> #eb655b </span> | <span style=\"color:#eb655b;\"> 样例文案 abcd <b>ABCD</b> <i>1234</i> </span> | <span style=\" background:#eb655b;\"> 样例文案 abcd <b>ABCD</b> <i>1234</i> </span> | <span style=\"color:#eb655b; background:white;\"> 样例文案 abcd <b>ABCD</b> <i>1234</i> </span> |\n",
    "| <span> 5 </span> | <span style=\"color:#58b849;\"> #58b849 </span> | <span style=\"color:#58b849;\"> 样例文案 abcd <b>ABCD</b> <i>1234</i> </span> | <span style=\" background:#58b849;\"> 样例文案 abcd <b>ABCD</b> <i>1234</i> </span> | <span style=\"color:#58b849; background:white;\"> 样例文案 abcd <b>ABCD</b> <i>1234</i> </span> |\n"
   ]
  },
  {
   "cell_type": "markdown",
   "id": "680f555e",
   "metadata": {},
   "source": [
    "\n",
    "\n",
    "| No | Color | Text Sample | Text Highlight | Text Over White |\n",
    "|:----:|:---:|:---:|:---:|:---:|\n",
    "| <span> 1 </span> | <span style=\"color:#e7e47d;\"> #e7e47d </span> | <span style=\"color:#e7e47d;\"> 样例文案 abcd <b>ABCD</b> <i>1234</i> </span> | <span style=\" background:#e7e47d;\"> 样例文案 abcd <b>ABCD</b> <i>1234</i> </span> | <span style=\"color:#e7e47d; background:white;\"> 样例文案 abcd <b>ABCD</b> <i>1234</i> </span> |\n",
    "| <span> 2 </span> | <span style=\"color:#b69649;\"> #b69649 </span> | <span style=\"color:#b69649;\"> 样例文案 abcd <b>ABCD</b> <i>1234</i> </span> | <span style=\" background:#b69649;\"> 样例文案 abcd <b>ABCD</b> <i>1234</i> </span> | <span style=\"color:#b69649; background:white;\"> 样例文案 abcd <b>ABCD</b> <i>1234</i> </span> |\n",
    "| <span> 3 </span> | <span style=\"color:#8edc62;\"> #8edc62 </span> | <span style=\"color:#8edc62;\"> 样例文案 abcd <b>ABCD</b> <i>1234</i> </span> | <span style=\" background:#8edc62;\"> 样例文案 abcd <b>ABCD</b> <i>1234</i> </span> | <span style=\"color:#8edc62; background:white;\"> 样例文案 abcd <b>ABCD</b> <i>1234</i> </span> |\n",
    "| <span> 4 </span> | <span style=\"color:#5aaa31;\"> #5aaa31 </span> | <span style=\"color:#5aaa31;\"> 样例文案 abcd <b>ABCD</b> <i>1234</i> </span> | <span style=\" background:#5aaa31;\"> 样例文案 abcd <b>ABCD</b> <i>1234</i> </span> | <span style=\"color:#5aaa31; background:white;\"> 样例文案 abcd <b>ABCD</b> <i>1234</i> </span> |\n",
    "| <span> 5 </span> | <span style=\"color:#479396;\"> #479396 </span> | <span style=\"color:#479396;\"> 样例文案 abcd <b>ABCD</b> <i>1234</i> </span> | <span style=\" background:#479396;\"> 样例文案 abcd <b>ABCD</b> <i>1234</i> </span> | <span style=\"color:#479396; background:white;\"> 样例文案 abcd <b>ABCD</b> <i>1234</i> </span> |\n"
   ]
  },
  {
   "cell_type": "markdown",
   "id": "bdad5a47",
   "metadata": {},
   "source": [
    "\n",
    "\n",
    "| No | Color | Text Sample | Text Highlight | Text Over White |\n",
    "|:----:|:---:|:---:|:---:|:---:|\n",
    "| <span> 1 </span> | <span style=\"color:#ff4e50;\"> #ff4e50 </span> | <span style=\"color:#ff4e50;\"> 样例文案 abcd <b>ABCD</b> <i>1234</i> </span> | <span style=\" background:#ff4e50;\"> 样例文案 abcd <b>ABCD</b> <i>1234</i> </span> | <span style=\"color:#ff4e50; background:white;\"> 样例文案 abcd <b>ABCD</b> <i>1234</i> </span> |\n",
    "| <span> 2 </span> | <span style=\"color:#f57758;\"> #f57758 </span> | <span style=\"color:#f57758;\"> 样例文案 abcd <b>ABCD</b> <i>1234</i> </span> | <span style=\" background:#f57758;\"> 样例文案 abcd <b>ABCD</b> <i>1234</i> </span> | <span style=\"color:#f57758; background:white;\"> 样例文案 abcd <b>ABCD</b> <i>1234</i> </span> |\n",
    "| <span> 3 </span> | <span style=\"color:#eca061;\"> #eca061 </span> | <span style=\"color:#eca061;\"> 样例文案 abcd <b>ABCD</b> <i>1234</i> </span> | <span style=\" background:#eca061;\"> 样例文案 abcd <b>ABCD</b> <i>1234</i> </span> | <span style=\"color:#eca061; background:white;\"> 样例文案 abcd <b>ABCD</b> <i>1234</i> </span> |\n",
    "| <span> 4 </span> | <span style=\"color:#e2c969;\"> #e2c969 </span> | <span style=\"color:#e2c969;\"> 样例文案 abcd <b>ABCD</b> <i>1234</i> </span> | <span style=\" background:#e2c969;\"> 样例文案 abcd <b>ABCD</b> <i>1234</i> </span> | <span style=\"color:#e2c969; background:white;\"> 样例文案 abcd <b>ABCD</b> <i>1234</i> </span> |\n",
    "| <span> 5 </span> | <span style=\"color:#d8f271;\"> #d8f271 </span> | <span style=\"color:#d8f271;\"> 样例文案 abcd <b>ABCD</b> <i>1234</i> </span> | <span style=\" background:#d8f271;\"> 样例文案 abcd <b>ABCD</b> <i>1234</i> </span> | <span style=\"color:#d8f271; background:white;\"> 样例文案 abcd <b>ABCD</b> <i>1234</i> </span> |\n"
   ]
  },
  {
   "cell_type": "markdown",
   "id": "09437bd2",
   "metadata": {},
   "source": [
    "\n",
    "\n",
    "| No | Color | Text Sample | Text Highlight | Text Over White |\n",
    "|:----:|:---:|:---:|:---:|:---:|\n",
    "| <span> 1 </span> | <span style=\"color:#423f3f;\"> #423f3f </span> | <span style=\"color:#423f3f;\"> 样例文案 abcd <b>ABCD</b> <i>1234</i> </span> | <span style=\" background:#423f3f;\"> 样例文案 abcd <b>ABCD</b> <i>1234</i> </span> | <span style=\"color:#423f3f; background:white;\"> 样例文案 abcd <b>ABCD</b> <i>1234</i> </span> |\n",
    "| <span> 2 </span> | <span style=\"color:#336b8b;\"> #336b8b </span> | <span style=\"color:#336b8b;\"> 样例文案 abcd <b>ABCD</b> <i>1234</i> </span> | <span style=\" background:#336b8b;\"> 样例文案 abcd <b>ABCD</b> <i>1234</i> </span> | <span style=\"color:#336b8b; background:white;\"> 样例文案 abcd <b>ABCD</b> <i>1234</i> </span> |\n",
    "| <span> 3 </span> | <span style=\"color:#83984d;\"> #83984d </span> | <span style=\"color:#83984d;\"> 样例文案 abcd <b>ABCD</b> <i>1234</i> </span> | <span style=\" background:#83984d;\"> 样例文案 abcd <b>ABCD</b> <i>1234</i> </span> | <span style=\"color:#83984d; background:white;\"> 样例文案 abcd <b>ABCD</b> <i>1234</i> </span> |\n",
    "| <span> 4 </span> | <span style=\"color:#f0b51f;\"> #f0b51f </span> | <span style=\"color:#f0b51f;\"> 样例文案 abcd <b>ABCD</b> <i>1234</i> </span> | <span style=\" background:#f0b51f;\"> 样例文案 abcd <b>ABCD</b> <i>1234</i> </span> | <span style=\"color:#f0b51f; background:white;\"> 样例文案 abcd <b>ABCD</b> <i>1234</i> </span> |\n",
    "| <span> 5 </span> | <span style=\"color:#ea700b;\"> #ea700b </span> | <span style=\"color:#ea700b;\"> 样例文案 abcd <b>ABCD</b> <i>1234</i> </span> | <span style=\" background:#ea700b;\"> 样例文案 abcd <b>ABCD</b> <i>1234</i> </span> | <span style=\"color:#ea700b; background:white;\"> 样例文案 abcd <b>ABCD</b> <i>1234</i> </span> |\n"
   ]
  },
  {
   "cell_type": "markdown",
   "id": "0d8ec7bf",
   "metadata": {},
   "source": [
    "\n",
    "\n",
    "| No | Color | Text Sample | Text Highlight | Text Over White |\n",
    "|:----:|:---:|:---:|:---:|:---:|\n",
    "| <span> 1 </span> | <span style=\"color:#22d3ee;\"> #22d3ee </span> | <span style=\"color:#22d3ee;\"> 样例文案 abcd <b>ABCD</b> <i>1234</i> </span> | <span style=\" background:#22d3ee;\"> 样例文案 abcd <b>ABCD</b> <i>1234</i> </span> | <span style=\"color:#22d3ee; background:white;\"> 样例文案 abcd <b>ABCD</b> <i>1234</i> </span> |\n",
    "| <span> 2 </span> | <span style=\"color:#f87171;\"> #f87171 </span> | <span style=\"color:#f87171;\"> 样例文案 abcd <b>ABCD</b> <i>1234</i> </span> | <span style=\" background:#f87171;\"> 样例文案 abcd <b>ABCD</b> <i>1234</i> </span> | <span style=\"color:#f87171; background:white;\"> 样例文案 abcd <b>ABCD</b> <i>1234</i> </span> |\n",
    "| <span> 3 </span> | <span style=\"color:#facc15;\"> #facc15 </span> | <span style=\"color:#facc15;\"> 样例文案 abcd <b>ABCD</b> <i>1234</i> </span> | <span style=\" background:#facc15;\"> 样例文案 abcd <b>ABCD</b> <i>1234</i> </span> | <span style=\"color:#facc15; background:white;\"> 样例文案 abcd <b>ABCD</b> <i>1234</i> </span> |\n",
    "| <span> 4 </span> | <span style=\"color:#e879f9;\"> #e879f9 </span> | <span style=\"color:#e879f9;\"> 样例文案 abcd <b>ABCD</b> <i>1234</i> </span> | <span style=\" background:#e879f9;\"> 样例文案 abcd <b>ABCD</b> <i>1234</i> </span> | <span style=\"color:#e879f9; background:white;\"> 样例文案 abcd <b>ABCD</b> <i>1234</i> </span> |\n",
    "| <span> 5 </span> | <span style=\"color:#4ade80;\"> #4ade80 </span> | <span style=\"color:#4ade80;\"> 样例文案 abcd <b>ABCD</b> <i>1234</i> </span> | <span style=\" background:#4ade80;\"> 样例文案 abcd <b>ABCD</b> <i>1234</i> </span> | <span style=\"color:#4ade80; background:white;\"> 样例文案 abcd <b>ABCD</b> <i>1234</i> </span> |\n"
   ]
  },
  {
   "cell_type": "markdown",
   "id": "932cc071",
   "metadata": {},
   "source": [
    "---"
   ]
  },
  {
   "cell_type": "markdown",
   "id": "385688f6",
   "metadata": {},
   "source": [
    "### <b><span style=\"color:#58b849;\"> Six Color Set </span></b>"
   ]
  },
  {
   "cell_type": "markdown",
   "id": "422a5c38",
   "metadata": {},
   "source": [
    "\n",
    "\n",
    "| No | Color | Text Sample | Text Highlight | Text Over White |\n",
    "|:----:|:---:|:---:|:---:|:---:|\n",
    "| <span> 1 </span> | <span style=\"color:#f9acdf;\"> #f9acdf </span> | <span style=\"color:#f9acdf;\"> 样例文案 abcd <b>ABCD</b> <i>1234</i> </span> | <span style=\" background:#f9acdf;\"> 样例文案 abcd <b>ABCD</b> <i>1234</i> </span> | <span style=\"color:#f9acdf; background:white;\"> 样例文案 abcd <b>ABCD</b> <i>1234</i> </span> |\n",
    "| <span> 2 </span> | <span style=\"color:#f7c98b;\"> #f7c98b </span> | <span style=\"color:#f7c98b;\"> 样例文案 abcd <b>ABCD</b> <i>1234</i> </span> | <span style=\" background:#f7c98b;\"> 样例文案 abcd <b>ABCD</b> <i>1234</i> </span> | <span style=\"color:#f7c98b; background:white;\"> 样例文案 abcd <b>ABCD</b> <i>1234</i> </span> |\n",
    "| <span> 3 </span> | <span style=\"color:#dbfb78;\"> #dbfb78 </span> | <span style=\"color:#dbfb78;\"> 样例文案 abcd <b>ABCD</b> <i>1234</i> </span> | <span style=\" background:#dbfb78;\"> 样例文案 abcd <b>ABCD</b> <i>1234</i> </span> | <span style=\"color:#dbfb78; background:white;\"> 样例文案 abcd <b>ABCD</b> <i>1234</i> </span> |\n",
    "| <span> 4 </span> | <span style=\"color:#abf28c;\"> #abf28c </span> | <span style=\"color:#abf28c;\"> 样例文案 abcd <b>ABCD</b> <i>1234</i> </span> | <span style=\" background:#abf28c;\"> 样例文案 abcd <b>ABCD</b> <i>1234</i> </span> | <span style=\"color:#abf28c; background:white;\"> 样例文案 abcd <b>ABCD</b> <i>1234</i> </span> |\n",
    "| <span> 5 </span> | <span style=\"color:#90dcf2;\"> #90dcf2 </span> | <span style=\"color:#90dcf2;\"> 样例文案 abcd <b>ABCD</b> <i>1234</i> </span> | <span style=\" background:#90dcf2;\"> 样例文案 abcd <b>ABCD</b> <i>1234</i> </span> | <span style=\"color:#90dcf2; background:white;\"> 样例文案 abcd <b>ABCD</b> <i>1234</i> </span> |\n",
    "| <span> 6 </span> | <span style=\"color:#e181ea;\"> #e181ea </span> | <span style=\"color:#e181ea;\"> 样例文案 abcd <b>ABCD</b> <i>1234</i> </span> | <span style=\" background:#e181ea;\"> 样例文案 abcd <b>ABCD</b> <i>1234</i> </span> | <span style=\"color:#e181ea; background:white;\"> 样例文案 abcd <b>ABCD</b> <i>1234</i> </span> |\n"
   ]
  },
  {
   "cell_type": "markdown",
   "id": "2ee464de",
   "metadata": {},
   "source": [
    "\n",
    "\n",
    "| No | Color | Text Sample | Text Highlight | Text Over White |\n",
    "|:----:|:---:|:---:|:---:|:---:|\n",
    "| <span> 1 </span> | <span style=\"color:#f83361;\"> #f83361 </span> | <span style=\"color:#f83361;\"> 样例文案 abcd <b>ABCD</b> <i>1234</i> </span> | <span style=\" background:#f83361;\"> 样例文案 abcd <b>ABCD</b> <i>1234</i> </span> | <span style=\"color:#f83361; background:white;\"> 样例文案 abcd <b>ABCD</b> <i>1234</i> </span> |\n",
    "| <span> 2 </span> | <span style=\"color:#fb4e01;\"> #fb4e01 </span> | <span style=\"color:#fb4e01;\"> 样例文案 abcd <b>ABCD</b> <i>1234</i> </span> | <span style=\" background:#fb4e01;\"> 样例文案 abcd <b>ABCD</b> <i>1234</i> </span> | <span style=\"color:#fb4e01; background:white;\"> 样例文案 abcd <b>ABCD</b> <i>1234</i> </span> |\n",
    "| <span> 3 </span> | <span style=\"color:#e9f109;\"> #e9f109 </span> | <span style=\"color:#e9f109;\"> 样例文案 abcd <b>ABCD</b> <i>1234</i> </span> | <span style=\" background:#e9f109;\"> 样例文案 abcd <b>ABCD</b> <i>1234</i> </span> | <span style=\"color:#e9f109; background:white;\"> 样例文案 abcd <b>ABCD</b> <i>1234</i> </span> |\n",
    "| <span> 4 </span> | <span style=\"color:#06ad40;\"> #06ad40 </span> | <span style=\"color:#06ad40;\"> 样例文案 abcd <b>ABCD</b> <i>1234</i> </span> | <span style=\" background:#06ad40;\"> 样例文案 abcd <b>ABCD</b> <i>1234</i> </span> | <span style=\"color:#06ad40; background:white;\"> 样例文案 abcd <b>ABCD</b> <i>1234</i> </span> |\n",
    "| <span> 5 </span> | <span style=\"color:#0271bc;\"> #0271bc </span> | <span style=\"color:#0271bc;\"> 样例文案 abcd <b>ABCD</b> <i>1234</i> </span> | <span style=\" background:#0271bc;\"> 样例文案 abcd <b>ABCD</b> <i>1234</i> </span> | <span style=\"color:#0271bc; background:white;\"> 样例文案 abcd <b>ABCD</b> <i>1234</i> </span> |\n",
    "| <span> 6 </span> | <span style=\"color:#350450;\"> #350450 </span> | <span style=\"color:#350450;\"> 样例文案 abcd <b>ABCD</b> <i>1234</i> </span> | <span style=\" background:#350450;\"> 样例文案 abcd <b>ABCD</b> <i>1234</i> </span> | <span style=\"color:#350450; background:white;\"> 样例文案 abcd <b>ABCD</b> <i>1234</i> </span> |\n"
   ]
  },
  {
   "cell_type": "markdown",
   "id": "84e6e974",
   "metadata": {},
   "source": [
    "\n",
    "\n",
    "| No | Color | Text Sample | Text Highlight | Text Over White |\n",
    "|:----:|:---:|:---:|:---:|:---:|\n",
    "| <span> 1 </span> | <span style=\"color:#dfe801;\"> #dfe801 </span> | <span style=\"color:#dfe801;\"> 样例文案 abcd <b>ABCD</b> <i>1234</i> </span> | <span style=\" background:#dfe801;\"> 样例文案 abcd <b>ABCD</b> <i>1234</i> </span> | <span style=\"color:#dfe801; background:white;\"> 样例文案 abcd <b>ABCD</b> <i>1234</i> </span> |\n",
    "| <span> 2 </span> | <span style=\"color:#f73560;\"> #f73560 </span> | <span style=\"color:#f73560;\"> 样例文案 abcd <b>ABCD</b> <i>1234</i> </span> | <span style=\" background:#f73560;\"> 样例文案 abcd <b>ABCD</b> <i>1234</i> </span> | <span style=\"color:#f73560; background:white;\"> 样例文案 abcd <b>ABCD</b> <i>1234</i> </span> |\n",
    "| <span> 3 </span> | <span style=\"color:#008d26;\"> #008d26 </span> | <span style=\"color:#008d26;\"> 样例文案 abcd <b>ABCD</b> <i>1234</i> </span> | <span style=\" background:#008d26;\"> 样例文案 abcd <b>ABCD</b> <i>1234</i> </span> | <span style=\"color:#008d26; background:white;\"> 样例文案 abcd <b>ABCD</b> <i>1234</i> </span> |\n",
    "| <span> 4 </span> | <span style=\"color:#0065bf;\"> #0065bf </span> | <span style=\"color:#0065bf;\"> 样例文案 abcd <b>ABCD</b> <i>1234</i> </span> | <span style=\" background:#0065bf;\"> 样例文案 abcd <b>ABCD</b> <i>1234</i> </span> | <span style=\"color:#0065bf; background:white;\"> 样例文案 abcd <b>ABCD</b> <i>1234</i> </span> |\n",
    "| <span> 5 </span> | <span style=\"color:#280439;\"> #280439 </span> | <span style=\"color:#280439;\"> 样例文案 abcd <b>ABCD</b> <i>1234</i> </span> | <span style=\" background:#280439;\"> 样例文案 abcd <b>ABCD</b> <i>1234</i> </span> | <span style=\"color:#280439; background:white;\"> 样例文案 abcd <b>ABCD</b> <i>1234</i> </span> |\n",
    "| <span> 6 </span> | <span style=\"color:#fe4807;\"> #fe4807 </span> | <span style=\"color:#fe4807;\"> 样例文案 abcd <b>ABCD</b> <i>1234</i> </span> | <span style=\" background:#fe4807;\"> 样例文案 abcd <b>ABCD</b> <i>1234</i> </span> | <span style=\"color:#fe4807; background:white;\"> 样例文案 abcd <b>ABCD</b> <i>1234</i> </span> |\n"
   ]
  },
  {
   "cell_type": "markdown",
   "id": "2338a3b2",
   "metadata": {},
   "source": [
    "---"
   ]
  },
  {
   "cell_type": "markdown",
   "id": "429e2235",
   "metadata": {},
   "source": [
    "### <b><span style=\"color:#58b849;\"> Other Color Set </span></b>"
   ]
  },
  {
   "cell_type": "markdown",
   "id": "bd357da1",
   "metadata": {},
   "source": [
    "\n",
    "\n",
    "| No | Color | Text Sample | Text Highlight | Text Over White |\n",
    "|:----:|:---:|:---:|:---:|:---:|\n",
    "| <span> 1 </span> | <span style=\"color:#fe5e9d;\"> #fe5e9d </span> | <span style=\"color:#fe5e9d;\"> 样例文案 abcd <b>ABCD</b> <i>1234</i> </span> | <span style=\" background:#fe5e9d;\"> 样例文案 abcd <b>ABCD</b> <i>1234</i> </span> | <span style=\"color:#fe5e9d; background:white;\"> 样例文案 abcd <b>ABCD</b> <i>1234</i> </span> |\n",
    "| <span> 2 </span> | <span style=\"color:#f9662d;\"> #f9662d </span> | <span style=\"color:#f9662d;\"> 样例文案 abcd <b>ABCD</b> <i>1234</i> </span> | <span style=\" background:#f9662d;\"> 样例文案 abcd <b>ABCD</b> <i>1234</i> </span> | <span style=\"color:#f9662d; background:white;\"> 样例文案 abcd <b>ABCD</b> <i>1234</i> </span> |\n",
    "| <span> 3 </span> | <span style=\"color:#5e22a0;\"> #5e22a0 </span> | <span style=\"color:#5e22a0;\"> 样例文案 abcd <b>ABCD</b> <i>1234</i> </span> | <span style=\" background:#5e22a0;\"> 样例文案 abcd <b>ABCD</b> <i>1234</i> </span> | <span style=\"color:#5e22a0; background:white;\"> 样例文案 abcd <b>ABCD</b> <i>1234</i> </span> |\n",
    "| <span> 4 </span> | <span style=\"color:#38a879;\"> #38a879 </span> | <span style=\"color:#38a879;\"> 样例文案 abcd <b>ABCD</b> <i>1234</i> </span> | <span style=\" background:#38a879;\"> 样例文案 abcd <b>ABCD</b> <i>1234</i> </span> | <span style=\"color:#38a879; background:white;\"> 样例文案 abcd <b>ABCD</b> <i>1234</i> </span> |\n",
    "| <span> 5 </span> | <span style=\"color:#51cbf4;\"> #51cbf4 </span> | <span style=\"color:#51cbf4;\"> 样例文案 abcd <b>ABCD</b> <i>1234</i> </span> | <span style=\" background:#51cbf4;\"> 样例文案 abcd <b>ABCD</b> <i>1234</i> </span> | <span style=\"color:#51cbf4; background:white;\"> 样例文案 abcd <b>ABCD</b> <i>1234</i> </span> |\n",
    "| <span> 6 </span> | <span style=\"color:#314cd2;\"> #314cd2 </span> | <span style=\"color:#314cd2;\"> 样例文案 abcd <b>ABCD</b> <i>1234</i> </span> | <span style=\" background:#314cd2;\"> 样例文案 abcd <b>ABCD</b> <i>1234</i> </span> | <span style=\"color:#314cd2; background:white;\"> 样例文案 abcd <b>ABCD</b> <i>1234</i> </span> |\n",
    "| <span> 7 </span> | <span style=\"color:#f63933;\"> #f63933 </span> | <span style=\"color:#f63933;\"> 样例文案 abcd <b>ABCD</b> <i>1234</i> </span> | <span style=\" background:#f63933;\"> 样例文案 abcd <b>ABCD</b> <i>1234</i> </span> | <span style=\"color:#f63933; background:white;\"> 样例文案 abcd <b>ABCD</b> <i>1234</i> </span> |\n",
    "| <span> 8 </span> | <span style=\"color:#1f2227;\"> #1f2227 </span> | <span style=\"color:#1f2227;\"> 样例文案 abcd <b>ABCD</b> <i>1234</i> </span> | <span style=\" background:#1f2227;\"> 样例文案 abcd <b>ABCD</b> <i>1234</i> </span> | <span style=\"color:#1f2227; background:white;\"> 样例文案 abcd <b>ABCD</b> <i>1234</i> </span> |\n"
   ]
  },
  {
   "cell_type": "markdown",
   "id": "6c77f5f3",
   "metadata": {},
   "source": [
    "\n",
    "\n",
    "| No | Color | Text Sample | Text Highlight | Text Over White |\n",
    "|:----:|:---:|:---:|:---:|:---:|\n",
    "| <span> 1 </span> | <span style=\"color:#bc908f;\"> #bc908f </span> | <span style=\"color:#bc908f;\"> 样例文案 abcd <b>ABCD</b> <i>1234</i> </span> | <span style=\" background:#bc908f;\"> 样例文案 abcd <b>ABCD</b> <i>1234</i> </span> | <span style=\"color:#bc908f; background:white;\"> 样例文案 abcd <b>ABCD</b> <i>1234</i> </span> |\n",
    "| <span> 2 </span> | <span style=\"color:#bc9690;\"> #bc9690 </span> | <span style=\"color:#bc9690;\"> 样例文案 abcd <b>ABCD</b> <i>1234</i> </span> | <span style=\" background:#bc9690;\"> 样例文案 abcd <b>ABCD</b> <i>1234</i> </span> | <span style=\"color:#bc9690; background:white;\"> 样例文案 abcd <b>ABCD</b> <i>1234</i> </span> |\n",
    "| <span> 3 </span> | <span style=\"color:#e9ccd0;\"> #e9ccd0 </span> | <span style=\"color:#e9ccd0;\"> 样例文案 abcd <b>ABCD</b> <i>1234</i> </span> | <span style=\" background:#e9ccd0;\"> 样例文案 abcd <b>ABCD</b> <i>1234</i> </span> | <span style=\"color:#e9ccd0; background:white;\"> 样例文案 abcd <b>ABCD</b> <i>1234</i> </span> |\n",
    "| <span> 4 </span> | <span style=\"color:#a89ea6;\"> #a89ea6 </span> | <span style=\"color:#a89ea6;\"> 样例文案 abcd <b>ABCD</b> <i>1234</i> </span> | <span style=\" background:#a89ea6;\"> 样例文案 abcd <b>ABCD</b> <i>1234</i> </span> | <span style=\"color:#a89ea6; background:white;\"> 样例文案 abcd <b>ABCD</b> <i>1234</i> </span> |\n",
    "| <span> 5 </span> | <span style=\"color:#8c94c0;\"> #8c94c0 </span> | <span style=\"color:#8c94c0;\"> 样例文案 abcd <b>ABCD</b> <i>1234</i> </span> | <span style=\" background:#8c94c0;\"> 样例文案 abcd <b>ABCD</b> <i>1234</i> </span> | <span style=\"color:#8c94c0; background:white;\"> 样例文案 abcd <b>ABCD</b> <i>1234</i> </span> |\n",
    "| <span> 6 </span> | <span style=\"color:#89a6a4;\"> #89a6a4 </span> | <span style=\"color:#89a6a4;\"> 样例文案 abcd <b>ABCD</b> <i>1234</i> </span> | <span style=\" background:#89a6a4;\"> 样例文案 abcd <b>ABCD</b> <i>1234</i> </span> | <span style=\"color:#89a6a4; background:white;\"> 样例文案 abcd <b>ABCD</b> <i>1234</i> </span> |\n",
    "| <span> 7 </span> | <span style=\"color:#7767a7;\"> #7767a7 </span> | <span style=\"color:#7767a7;\"> 样例文案 abcd <b>ABCD</b> <i>1234</i> </span> | <span style=\" background:#7767a7;\"> 样例文案 abcd <b>ABCD</b> <i>1234</i> </span> | <span style=\"color:#7767a7; background:white;\"> 样例文案 abcd <b>ABCD</b> <i>1234</i> </span> |\n",
    "| <span> 8 </span> | <span style=\"color:#829fcc;\"> #829fcc </span> | <span style=\"color:#829fcc;\"> 样例文案 abcd <b>ABCD</b> <i>1234</i> </span> | <span style=\" background:#829fcc;\"> 样例文案 abcd <b>ABCD</b> <i>1234</i> </span> | <span style=\"color:#829fcc; background:white;\"> 样例文案 abcd <b>ABCD</b> <i>1234</i> </span> |\n",
    "| <span> 9 </span> | <span style=\"color:#88a498;\"> #88a498 </span> | <span style=\"color:#88a498;\"> 样例文案 abcd <b>ABCD</b> <i>1234</i> </span> | <span style=\" background:#88a498;\"> 样例文案 abcd <b>ABCD</b> <i>1234</i> </span> | <span style=\"color:#88a498; background:white;\"> 样例文案 abcd <b>ABCD</b> <i>1234</i> </span> |\n",
    "| <span> 10 </span> | <span style=\"color:#a99787;\"> #a99787 </span> | <span style=\"color:#a99787;\"> 样例文案 abcd <b>ABCD</b> <i>1234</i> </span> | <span style=\" background:#a99787;\"> 样例文案 abcd <b>ABCD</b> <i>1234</i> </span> | <span style=\"color:#a99787; background:white;\"> 样例文案 abcd <b>ABCD</b> <i>1234</i> </span> |\n",
    "| <span> 11 </span> | <span style=\"color:#e88b93;\"> #e88b93 </span> | <span style=\"color:#e88b93;\"> 样例文案 abcd <b>ABCD</b> <i>1234</i> </span> | <span style=\" background:#e88b93;\"> 样例文案 abcd <b>ABCD</b> <i>1234</i> </span> | <span style=\"color:#e88b93; background:white;\"> 样例文案 abcd <b>ABCD</b> <i>1234</i> </span> |\n",
    "| <span> 12 </span> | <span style=\"color:#99888e;\"> #99888e </span> | <span style=\"color:#99888e;\"> 样例文案 abcd <b>ABCD</b> <i>1234</i> </span> | <span style=\" background:#99888e;\"> 样例文案 abcd <b>ABCD</b> <i>1234</i> </span> | <span style=\"color:#99888e; background:white;\"> 样例文案 abcd <b>ABCD</b> <i>1234</i> </span> |\n"
   ]
  },
  {
   "cell_type": "markdown",
   "id": "af36b56c",
   "metadata": {},
   "source": [
    "---"
   ]
  }
 ],
 "metadata": {},
 "nbformat": 4,
 "nbformat_minor": 5
}
